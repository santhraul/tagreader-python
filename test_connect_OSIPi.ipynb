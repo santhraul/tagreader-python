{
 "cells": [
  {
   "cell_type": "code",
   "execution_count": 1,
   "metadata": {},
   "outputs": [],
   "source": [
    "# %pip install tagreader\n",
    "%load_ext autoreload\n",
    "%autoreload 2"
   ]
  },
  {
   "cell_type": "code",
   "execution_count": 2,
   "metadata": {},
   "outputs": [],
   "source": [
    "import tagreader"
   ]
  },
  {
   "cell_type": "code",
   "execution_count": 3,
   "metadata": {
    "tags": []
   },
   "outputs": [
    {
     "data": {
      "text/plain": [
       "['10.145.2.20',\n",
       " '10.185.0.45',\n",
       " '10.23.56.110',\n",
       " '10.235.3.20',\n",
       " '10.235.7.228',\n",
       " '10.32.6.21',\n",
       " '10.4.128.97',\n",
       " 'GC_PI_SERVER',\n",
       " 'PISERVER-APCW',\n",
       " 'PIServer-DCW',\n",
       " 'PIServer-GCW',\n",
       " 'PISERVER-GICW',\n",
       " 'PIServer-NMGD',\n",
       " 'PIServer-WBCW']"
      ]
     },
     "execution_count": 3,
     "metadata": {},
     "output_type": "execute_result"
    }
   ],
   "source": [
    "tagreader.list_sources(imstype=\"piwebapi\", \n",
    "                       url=\"https://piserver-apcw/piwebapi\", verifySSL=False)"
   ]
  },
  {
   "cell_type": "code",
   "execution_count": 4,
   "metadata": {
    "tags": []
   },
   "outputs": [],
   "source": [
    "pi_conn = tagreader.IMSClient(datasource = 'PISERVER-APCW', \n",
    "                              imstype = 'piwebapi', \n",
    "                              url = 'https://piserver-apcw/piwebapi',\n",
    "                              tz ='Asia/Kolkata', verifySSL=False)\n",
    "pi_conn.connect()"
   ]
  },
  {
   "cell_type": "code",
   "execution_count": 5,
   "metadata": {
    "tags": []
   },
   "outputs": [
    {
     "data": {
      "text/html": [
       "<div>\n",
       "<style scoped>\n",
       "    .dataframe tbody tr th:only-of-type {\n",
       "        vertical-align: middle;\n",
       "    }\n",
       "\n",
       "    .dataframe tbody tr th {\n",
       "        vertical-align: top;\n",
       "    }\n",
       "\n",
       "    .dataframe thead th {\n",
       "        text-align: right;\n",
       "    }\n",
       "</style>\n",
       "<table border=\"1\" class=\"dataframe\">\n",
       "  <thead>\n",
       "    <tr style=\"text-align: right;\">\n",
       "      <th></th>\n",
       "      <th>F1DP3mzQ5p6PZEu351s4Dg_6tgdR8AAAUElTRVJWRVItQVBDV1xBUENXIENMUiAgQ0ZHM0RQ</th>\n",
       "    </tr>\n",
       "    <tr>\n",
       "      <th>time</th>\n",
       "      <th></th>\n",
       "    </tr>\n",
       "  </thead>\n",
       "  <tbody>\n",
       "    <tr>\n",
       "      <th>2022-10-24 08:00:00+05:30</th>\n",
       "      <td>19.027493</td>\n",
       "    </tr>\n",
       "    <tr>\n",
       "      <th>2022-10-24 08:03:00+05:30</th>\n",
       "      <td>18.909600</td>\n",
       "    </tr>\n",
       "    <tr>\n",
       "      <th>2022-10-24 08:06:00+05:30</th>\n",
       "      <td>18.791704</td>\n",
       "    </tr>\n",
       "    <tr>\n",
       "      <th>2022-10-24 08:09:00+05:30</th>\n",
       "      <td>18.673811</td>\n",
       "    </tr>\n",
       "    <tr>\n",
       "      <th>2022-10-24 08:12:00+05:30</th>\n",
       "      <td>16.083890</td>\n",
       "    </tr>\n",
       "    <tr>\n",
       "      <th>...</th>\n",
       "      <td>...</td>\n",
       "    </tr>\n",
       "    <tr>\n",
       "      <th>2022-10-27 11:18:00+05:30</th>\n",
       "      <td>18.793726</td>\n",
       "    </tr>\n",
       "    <tr>\n",
       "      <th>2022-10-27 11:21:00+05:30</th>\n",
       "      <td>20.129580</td>\n",
       "    </tr>\n",
       "    <tr>\n",
       "      <th>2022-10-27 11:24:00+05:30</th>\n",
       "      <td>21.465433</td>\n",
       "    </tr>\n",
       "    <tr>\n",
       "      <th>2022-10-27 11:27:00+05:30</th>\n",
       "      <td>22.801285</td>\n",
       "    </tr>\n",
       "    <tr>\n",
       "      <th>2022-10-27 11:30:00+05:30</th>\n",
       "      <td>24.137138</td>\n",
       "    </tr>\n",
       "  </tbody>\n",
       "</table>\n",
       "<p>1511 rows × 1 columns</p>\n",
       "</div>"
      ],
      "text/plain": [
       "                           F1DP3mzQ5p6PZEu351s4Dg_6tgdR8AAAUElTRVJWRVItQVBDV1xBUENXIENMUiAgQ0ZHM0RQ\n",
       "time                                                                                               \n",
       "2022-10-24 08:00:00+05:30                                          19.027493                       \n",
       "2022-10-24 08:03:00+05:30                                          18.909600                       \n",
       "2022-10-24 08:06:00+05:30                                          18.791704                       \n",
       "2022-10-24 08:09:00+05:30                                          18.673811                       \n",
       "2022-10-24 08:12:00+05:30                                          16.083890                       \n",
       "...                                                                      ...                       \n",
       "2022-10-27 11:18:00+05:30                                          18.793726                       \n",
       "2022-10-27 11:21:00+05:30                                          20.129580                       \n",
       "2022-10-27 11:24:00+05:30                                          21.465433                       \n",
       "2022-10-27 11:27:00+05:30                                          22.801285                       \n",
       "2022-10-27 11:30:00+05:30                                          24.137138                       \n",
       "\n",
       "[1511 rows x 1 columns]"
      ]
     },
     "execution_count": 5,
     "metadata": {},
     "output_type": "execute_result"
    }
   ],
   "source": [
    "pi_conn.read(['F1DP3mzQ5p6PZEu351s4Dg_6tgdR8AAAUElTRVJWRVItQVBDV1xBUENXIENMUiAgQ0ZHM0RQ'], \n",
    "             '24-10-2022 08:00:00', '27/10/2022 11:30am', 180 )"
   ]
  },
  {
   "cell_type": "code",
   "execution_count": 6,
   "metadata": {},
   "outputs": [
    {
     "name": "stdout",
     "output_type": "stream",
     "text": [
      "https://piserver-apcw/piwebapi/search/query\n"
     ]
    },
    {
     "ename": "ValueError",
     "evalue": "Received error from server when searching for WebId for ACW DISC PRESSURE: [{'Message': 'Search source not found. If more details are needed, please contact your PI Web API administrator for help in enabling debug mode.', 'Source': None, 'ErrorCode': 6}]",
     "output_type": "error",
     "traceback": [
      "\u001b[1;31m---------------------------------------------------------------------------\u001b[0m",
      "\u001b[1;31mValueError\u001b[0m                                Traceback (most recent call last)",
      "Input \u001b[1;32mIn [6]\u001b[0m, in \u001b[0;36m<cell line: 1>\u001b[1;34m()\u001b[0m\n\u001b[1;32m----> 1\u001b[0m \u001b[43mpi_conn\u001b[49m\u001b[38;5;241;43m.\u001b[39;49m\u001b[43mread\u001b[49m\u001b[43m(\u001b[49m\u001b[43m[\u001b[49m\u001b[38;5;124;43m'\u001b[39;49m\u001b[38;5;124;43mACW DISC PRESSURE\u001b[39;49m\u001b[38;5;124;43m'\u001b[39;49m\u001b[43m]\u001b[49m\u001b[43m,\u001b[49m\u001b[43m \u001b[49m\n\u001b[0;32m      2\u001b[0m \u001b[43m             \u001b[49m\u001b[38;5;124;43m'\u001b[39;49m\u001b[38;5;124;43m24-10-2022 08:00:00\u001b[39;49m\u001b[38;5;124;43m'\u001b[39;49m\u001b[43m,\u001b[49m\u001b[43m \u001b[49m\u001b[38;5;124;43m'\u001b[39;49m\u001b[38;5;124;43m27/10/2022 11:30am\u001b[39;49m\u001b[38;5;124;43m'\u001b[39;49m\u001b[43m,\u001b[49m\u001b[43m \u001b[49m\u001b[38;5;241;43m180\u001b[39;49m\u001b[43m \u001b[49m\u001b[43m)\u001b[49m\n",
      "File \u001b[1;32m~\\Anaconda3\\lib\\site-packages\\tagreader\\clients.py:467\u001b[0m, in \u001b[0;36mIMSClient.read\u001b[1;34m(self, tags, start_time, end_time, ts, read_type, get_status)\u001b[0m\n\u001b[0;32m    464\u001b[0m cols \u001b[38;5;241m=\u001b[39m []\n\u001b[0;32m    465\u001b[0m \u001b[38;5;28;01mfor\u001b[39;00m tag \u001b[38;5;129;01min\u001b[39;00m tags:\n\u001b[0;32m    466\u001b[0m     cols\u001b[38;5;241m.\u001b[39mappend(\n\u001b[1;32m--> 467\u001b[0m         \u001b[38;5;28;43mself\u001b[39;49m\u001b[38;5;241;43m.\u001b[39;49m\u001b[43m_read_single_tag\u001b[49m\u001b[43m(\u001b[49m\n\u001b[0;32m    468\u001b[0m \u001b[43m            \u001b[49m\u001b[43mtag\u001b[49m\u001b[43m,\u001b[49m\n\u001b[0;32m    469\u001b[0m \u001b[43m            \u001b[49m\u001b[43mstart_time\u001b[49m\u001b[43m,\u001b[49m\n\u001b[0;32m    470\u001b[0m \u001b[43m            \u001b[49m\u001b[43mend_time\u001b[49m\u001b[43m,\u001b[49m\n\u001b[0;32m    471\u001b[0m \u001b[43m            \u001b[49m\u001b[43mts\u001b[49m\u001b[43m,\u001b[49m\n\u001b[0;32m    472\u001b[0m \u001b[43m            \u001b[49m\u001b[43mread_type\u001b[49m\u001b[43m,\u001b[49m\n\u001b[0;32m    473\u001b[0m \u001b[43m            \u001b[49m\u001b[43mget_status\u001b[49m\u001b[43m,\u001b[49m\n\u001b[0;32m    474\u001b[0m \u001b[43m            \u001b[49m\u001b[43mcache\u001b[49m\u001b[38;5;241;43m=\u001b[39;49m\u001b[38;5;28;43mself\u001b[39;49m\u001b[38;5;241;43m.\u001b[39;49m\u001b[43mcache\u001b[49m\u001b[43m,\u001b[49m\n\u001b[0;32m    475\u001b[0m \u001b[43m        \u001b[49m\u001b[43m)\u001b[49m\n\u001b[0;32m    476\u001b[0m     )\n\u001b[0;32m    477\u001b[0m \u001b[38;5;28;01mreturn\u001b[39;00m pd\u001b[38;5;241m.\u001b[39mconcat(cols, axis\u001b[38;5;241m=\u001b[39m\u001b[38;5;241m1\u001b[39m)\n",
      "File \u001b[1;32m~\\Anaconda3\\lib\\site-packages\\tagreader\\clients.py:335\u001b[0m, in \u001b[0;36mIMSClient._read_single_tag\u001b[1;34m(self, tag, start_time, stop_time, ts, read_type, get_status, cache)\u001b[0m\n\u001b[0;32m    333\u001b[0m \u001b[38;5;28;01mfor\u001b[39;00m (start, stop) \u001b[38;5;129;01min\u001b[39;00m missing_intervals:\n\u001b[0;32m    334\u001b[0m     \u001b[38;5;28;01mwhile\u001b[39;00m \u001b[38;5;28;01mTrue\u001b[39;00m:\n\u001b[1;32m--> 335\u001b[0m         df \u001b[38;5;241m=\u001b[39m \u001b[38;5;28;43mself\u001b[39;49m\u001b[38;5;241;43m.\u001b[39;49m\u001b[43mhandler\u001b[49m\u001b[38;5;241;43m.\u001b[39;49m\u001b[43mread_tag\u001b[49m\u001b[43m(\u001b[49m\n\u001b[0;32m    336\u001b[0m \u001b[43m            \u001b[49m\u001b[43mtag\u001b[49m\u001b[43m,\u001b[49m\u001b[43m \u001b[49m\u001b[43mstart\u001b[49m\u001b[43m,\u001b[49m\u001b[43m \u001b[49m\u001b[43mstop\u001b[49m\u001b[43m,\u001b[49m\u001b[43m \u001b[49m\u001b[43mts\u001b[49m\u001b[43m,\u001b[49m\u001b[43m \u001b[49m\u001b[43mread_type\u001b[49m\u001b[43m,\u001b[49m\u001b[43m \u001b[49m\u001b[43mmetadata\u001b[49m\u001b[43m,\u001b[49m\u001b[43m \u001b[49m\u001b[43mget_status\u001b[49m\n\u001b[0;32m    337\u001b[0m \u001b[43m        \u001b[49m\u001b[43m)\u001b[49m\n\u001b[0;32m    338\u001b[0m         \u001b[38;5;28;01mif\u001b[39;00m \u001b[38;5;28mlen\u001b[39m(df\u001b[38;5;241m.\u001b[39mindex) \u001b[38;5;241m>\u001b[39m \u001b[38;5;241m0\u001b[39m:\n\u001b[0;32m    339\u001b[0m             \u001b[38;5;28;01mif\u001b[39;00m (\n\u001b[0;32m    340\u001b[0m                 cache \u001b[38;5;129;01mis\u001b[39;00m \u001b[38;5;129;01mnot\u001b[39;00m \u001b[38;5;28;01mNone\u001b[39;00m\n\u001b[0;32m    341\u001b[0m                 \u001b[38;5;129;01mand\u001b[39;00m read_type\n\u001b[1;32m   (...)\u001b[0m\n\u001b[0;32m    346\u001b[0m                 \u001b[38;5;129;01mand\u001b[39;00m \u001b[38;5;129;01mnot\u001b[39;00m get_status\n\u001b[0;32m    347\u001b[0m             ):\n",
      "File \u001b[1;32m~\\Anaconda3\\lib\\site-packages\\tagreader\\web_handlers.py:840\u001b[0m, in \u001b[0;36mPIHandlerWeb.read_tag\u001b[1;34m(self, tag, start_time, stop_time, sample_time, read_type, metadata, get_status)\u001b[0m\n\u001b[0;32m    830\u001b[0m \u001b[38;5;28;01mdef\u001b[39;00m \u001b[38;5;21mread_tag\u001b[39m(\n\u001b[0;32m    831\u001b[0m     \u001b[38;5;28mself\u001b[39m,\n\u001b[0;32m    832\u001b[0m     tag,\n\u001b[1;32m   (...)\u001b[0m\n\u001b[0;32m    838\u001b[0m     get_status\u001b[38;5;241m=\u001b[39m\u001b[38;5;28;01mFalse\u001b[39;00m,\n\u001b[0;32m    839\u001b[0m ):\n\u001b[1;32m--> 840\u001b[0m     webid \u001b[38;5;241m=\u001b[39m \u001b[38;5;28;43mself\u001b[39;49m\u001b[38;5;241;43m.\u001b[39;49m\u001b[43mtag_to_webid\u001b[49m\u001b[43m(\u001b[49m\u001b[43mtag\u001b[49m\u001b[43m)\u001b[49m\n\u001b[0;32m    841\u001b[0m     \u001b[38;5;66;03m# webid = tag\u001b[39;00m\n\u001b[0;32m    842\u001b[0m     \u001b[38;5;28;01mif\u001b[39;00m \u001b[38;5;129;01mnot\u001b[39;00m webid:\n",
      "File \u001b[1;32m~\\Anaconda3\\lib\\site-packages\\tagreader\\web_handlers.py:799\u001b[0m, in \u001b[0;36mPIHandlerWeb.tag_to_webid\u001b[1;34m(self, tag)\u001b[0m\n\u001b[0;32m    797\u001b[0m \u001b[38;5;28;01mif\u001b[39;00m \u001b[38;5;28mlen\u001b[39m(j[\u001b[38;5;124m\"\u001b[39m\u001b[38;5;124mErrors\u001b[39m\u001b[38;5;124m\"\u001b[39m]) \u001b[38;5;241m>\u001b[39m \u001b[38;5;241m0\u001b[39m:\n\u001b[0;32m    798\u001b[0m     msg \u001b[38;5;241m=\u001b[39m \u001b[38;5;124mf\u001b[39m\u001b[38;5;124m\"\u001b[39m\u001b[38;5;124mReceived error from server when searching for WebId for \u001b[39m\u001b[38;5;132;01m{\u001b[39;00mtag\u001b[38;5;132;01m}\u001b[39;00m\u001b[38;5;124m: \u001b[39m\u001b[38;5;132;01m{\u001b[39;00mj[\u001b[38;5;124m'\u001b[39m\u001b[38;5;124mErrors\u001b[39m\u001b[38;5;124m'\u001b[39m]\u001b[38;5;132;01m}\u001b[39;00m\u001b[38;5;124m\"\u001b[39m  \u001b[38;5;66;03m# noqa: E501\u001b[39;00m\n\u001b[1;32m--> 799\u001b[0m     \u001b[38;5;28;01mraise\u001b[39;00m \u001b[38;5;167;01mValueError\u001b[39;00m(msg)\n\u001b[0;32m    801\u001b[0m \u001b[38;5;28;01mif\u001b[39;00m \u001b[38;5;28mlen\u001b[39m(j[\u001b[38;5;124m\"\u001b[39m\u001b[38;5;124mItems\u001b[39m\u001b[38;5;124m\"\u001b[39m]) \u001b[38;5;241m>\u001b[39m \u001b[38;5;241m1\u001b[39m:\n\u001b[0;32m    802\u001b[0m     \u001b[38;5;66;03m# Compare elements and if same, return the first\u001b[39;00m\n\u001b[0;32m    803\u001b[0m     first \u001b[38;5;241m=\u001b[39m j[\u001b[38;5;124m\"\u001b[39m\u001b[38;5;124mItems\u001b[39m\u001b[38;5;124m\"\u001b[39m][\u001b[38;5;241m0\u001b[39m]\n",
      "\u001b[1;31mValueError\u001b[0m: Received error from server when searching for WebId for ACW DISC PRESSURE: [{'Message': 'Search source not found. If more details are needed, please contact your PI Web API administrator for help in enabling debug mode.', 'Source': None, 'ErrorCode': 6}]"
     ]
    }
   ],
   "source": [
    "pi_conn.read(['ACW DISC PRESSURE'], \n",
    "             '24-10-2022 08:00:00', '27/10/2022 11:30am', 180 )"
   ]
  },
  {
   "cell_type": "code",
   "execution_count": null,
   "metadata": {},
   "outputs": [],
   "source": []
  },
  {
   "cell_type": "code",
   "execution_count": null,
   "metadata": {},
   "outputs": [],
   "source": []
  },
  {
   "cell_type": "code",
   "execution_count": null,
   "metadata": {},
   "outputs": [],
   "source": []
  },
  {
   "cell_type": "code",
   "execution_count": null,
   "metadata": {},
   "outputs": [],
   "source": []
  },
  {
   "cell_type": "code",
   "execution_count": null,
   "metadata": {},
   "outputs": [],
   "source": []
  }
 ],
 "metadata": {
  "kernelspec": {
   "display_name": "Python 3 (ipykernel)",
   "language": "python",
   "name": "python3"
  },
  "language_info": {
   "codemirror_mode": {
    "name": "ipython",
    "version": 3
   },
   "file_extension": ".py",
   "mimetype": "text/x-python",
   "name": "python",
   "nbconvert_exporter": "python",
   "pygments_lexer": "ipython3",
   "version": "3.9.12"
  },
  "vscode": {
   "interpreter": {
    "hash": "d38e39a506945a67ae31e692e895cc86b4387093ce8e47725212731cebaf0f54"
   }
  }
 },
 "nbformat": 4,
 "nbformat_minor": 4
}
